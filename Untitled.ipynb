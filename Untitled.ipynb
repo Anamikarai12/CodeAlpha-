{
 "cells": [
  {
   "cell_type": "code",
   "execution_count": null,
   "id": "c40e1ad5-e5d8-4ee3-a176-e28aa510e6ad",
   "metadata": {},
   "outputs": [],
   "source": [
    "import os\n",
    "import shutil\n",
    "\n",
    "path=input(\"enter path:\")\n",
    "files=os.listdir(path)\n",
    "\n",
    "for file in files:\n",
    "    filename,extension=os.path.splitext(file)\n",
    "    extension=extension[1:]\n",
    "\n",
    "    if os.path.exists(path+'/'+extension):\n",
    "        shutil.move(path+'/'+file,path+'/'+extension+'/'+file)\n",
    "    else:\n",
    "        os.makedirs(path+'/'+extension)\n",
    "        shutil.move(path+'/'+file,path+'/'+extension+'/'+file)"
   ]
  }
 ],
 "metadata": {
  "kernelspec": {
   "display_name": "Python 3 (ipykernel)",
   "language": "python",
   "name": "python3"
  },
  "language_info": {
   "codemirror_mode": {
    "name": "ipython",
    "version": 3
   },
   "file_extension": ".py",
   "mimetype": "text/x-python",
   "name": "python",
   "nbconvert_exporter": "python",
   "pygments_lexer": "ipython3",
   "version": "3.11.7"
  }
 },
 "nbformat": 4,
 "nbformat_minor": 5
}
